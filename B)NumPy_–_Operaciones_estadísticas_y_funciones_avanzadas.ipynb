{
  "nbformat": 4,
  "nbformat_minor": 0,
  "metadata": {
    "colab": {
      "provenance": [],
      "include_colab_link": true
    },
    "kernelspec": {
      "name": "python3",
      "display_name": "Python 3"
    },
    "language_info": {
      "name": "python"
    }
  },
  "cells": [
    {
      "cell_type": "markdown",
      "metadata": {
        "id": "view-in-github",
        "colab_type": "text"
      },
      "source": [
        "<a href=\"https://colab.research.google.com/github/alexcdiaz123-afk/IA-vs-ML--alexander-carreno-y-francisco-lopez/blob/main/B)NumPy_%E2%80%93_Operaciones_estad%C3%ADsticas_y_funciones_avanzadas.ipynb\" target=\"_parent\"><img src=\"https://colab.research.google.com/assets/colab-badge.svg\" alt=\"Open In Colab\"/></a>"
      ]
    },
    {
      "cell_type": "code",
      "execution_count": null,
      "metadata": {
        "id": "Pvll2i3ltw0_"
      },
      "outputs": [],
      "source": [
        "import numpy as np"
      ]
    },
    {
      "cell_type": "code",
      "source": [
        "# Estadistica (mean, std, sum)#\n",
        "matriz1 = np.array([2,2,2,2,2,3])\n",
        "\n",
        "mean = np.mean(matriz1)\n",
        "std = np.std(matriz1)\n",
        "sum = np.sum(matriz1)\n",
        "\n",
        "print(\"la media es\", matriz1)\n",
        "print(\"la desviacion es \", std)\n",
        "print(\"la suma tota es \", sum)"
      ],
      "metadata": {
        "colab": {
          "base_uri": "https://localhost:8080/"
        },
        "id": "bwZTplpeuEsz",
        "outputId": "6234b432-b99d-4942-de88-0f5813b32c40"
      },
      "execution_count": null,
      "outputs": [
        {
          "output_type": "stream",
          "name": "stdout",
          "text": [
            "la media es [2 2 2 2 2 3]\n",
            "la desviacion es  0.3726779962499649\n",
            "la suma tota es  13\n"
          ]
        }
      ]
    },
    {
      "cell_type": "code",
      "source": [
        "# Range, linspace\n",
        "\n",
        "arange = np.arange(0,21,1)\n",
        "linspace = np.linspace(0,1,10)\n",
        "\n",
        "print(\"usando arange \", arange)\n",
        "print(\"usando linspace \", linspace)"
      ],
      "metadata": {
        "colab": {
          "base_uri": "https://localhost:8080/"
        },
        "id": "uoyqRVK86UU9",
        "outputId": "2da85edc-8ea9-4780-fd03-927f8da5eff0"
      },
      "execution_count": null,
      "outputs": [
        {
          "output_type": "stream",
          "name": "stdout",
          "text": [
            "usando arange  [ 0  1  2  3  4  5  6  7  8  9 10 11 12 13 14 15 16 17 18 19 20]\n",
            "usando linspace  [0.         0.11111111 0.22222222 0.33333333 0.44444444 0.55555556\n",
            " 0.66666667 0.77777778 0.88888889 1.        ]\n"
          ]
        }
      ]
    },
    {
      "cell_type": "code",
      "source": [
        "#Random\n",
        "random =np.random.rand(2,2)\n",
        "print(\"Una matriz random:\\n\", random)"
      ],
      "metadata": {
        "colab": {
          "base_uri": "https://localhost:8080/"
        },
        "id": "oN2R8xiE9Eee",
        "outputId": "cefd2481-e25b-42a8-bc65-f990423eda50"
      },
      "execution_count": null,
      "outputs": [
        {
          "output_type": "stream",
          "name": "stdout",
          "text": [
            "Una matriz random:\n",
            " [[0.66039606 0.02429358]\n",
            " [0.23859785 0.80662667]]\n"
          ]
        }
      ]
    },
    {
      "cell_type": "code",
      "source": [
        "#Algebra lineal-Producto-Trasposicion-Inversa\n",
        "matrizA =np.array([[2,1],[3,3]])\n",
        "matrizB = np.array([[4,4],[8,8]])\n",
        "\n",
        "dot =np.dot(matrizA, matrizB)\n",
        "transpose = np.transpose(matrizB)\n",
        "linalg = np.linalg.inv(matrizA)\n",
        "\n",
        "print(\"El producto punto es\\n \", dot)\n",
        "print(\"La transpuesta es\\n \", transpose)\n",
        "print(\"La inversa es\\n \", linalg)"
      ],
      "metadata": {
        "colab": {
          "base_uri": "https://localhost:8080/"
        },
        "id": "WF5KfVVN99f2",
        "outputId": "54df22b3-f12f-4fc0-a410-6f802543a6b8"
      },
      "execution_count": null,
      "outputs": [
        {
          "output_type": "stream",
          "name": "stdout",
          "text": [
            "El producto punto es\n",
            "  [[16 16]\n",
            " [36 36]]\n",
            "La transpuesta es\n",
            "  [[4 8]\n",
            " [4 8]]\n",
            "La inversa es\n",
            "  [[ 1.         -0.33333333]\n",
            " [-1.          0.66666667]]\n"
          ]
        }
      ]
    },
    {
      "cell_type": "code",
      "source": [],
      "metadata": {
        "id": "3hQHOsMkDWF_"
      },
      "execution_count": null,
      "outputs": []
    }
  ]
}